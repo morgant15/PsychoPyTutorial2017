{
 "cells": [
  {
   "cell_type": "markdown",
   "metadata": {},
   "source": [
    "Here, we are going to learn how to go about creating a conditions file with proper randomization. As we saw yesterday, if we put blind faith in randomization, we can end up with incorrect conditions in the trial file. Experiment design is an interesting trade off between control and randomness. That's why when you read a paper in psychology or neuroscience, you will find that the methods section specifies that the trial order has been \"psuedo randomized\". \n",
    "\n",
    "This could be an entire stand alone class, but in our toy experiment we will learn how to generate and excel file of conditions using python!"
   ]
  },
  {
   "cell_type": "code",
   "execution_count": 6,
   "metadata": {
    "collapsed": true
   },
   "outputs": [],
   "source": [
    "import numpy as np\n",
    "import pandas as pd\n",
    "from random import shuffle"
   ]
  },
  {
   "cell_type": "markdown",
   "metadata": {},
   "source": [
    "Here, we are coding the one back task. The subject has to press a button on each trial, left arrow if the image is not repeated, and right arrow if it is. "
   ]
  },
  {
   "cell_type": "code",
   "execution_count": 3,
   "metadata": {},
   "outputs": [
    {
     "data": {
      "text/plain": [
       "['im1.jpg', 'im2.jpg', 'im3.jpg', 'im4.jpg', 'im5.jpg']"
      ]
     },
     "execution_count": 3,
     "metadata": {},
     "output_type": "execute_result"
    }
   ],
   "source": [
    "image_names = ['im1.jpg','im2.jpg','im3.jpg','im4.jpg','im5.jpg']\n",
    "image_names"
   ]
  },
  {
   "cell_type": "code",
   "execution_count": 4,
   "metadata": {},
   "outputs": [
    {
     "data": {
      "text/plain": [
       "['im1.jpg', 'im2.jpg', 'im3.jpg', 'im4.jpg', 'im5.jpg', 'repeat']"
      ]
     },
     "execution_count": 4,
     "metadata": {},
     "output_type": "execute_result"
    }
   ],
   "source": [
    "# we also want a repeat condition every few trials!\n",
    "image_names.append('repeat')\n",
    "image_names"
   ]
  },
  {
   "cell_type": "code",
   "execution_count": 7,
   "metadata": {},
   "outputs": [
    {
     "data": {
      "text/plain": [
       "[['im4.jpg', 'im1.jpg', 'im2.jpg', 'repeat', 'im5.jpg', 'im3.jpg'],\n",
       " ['im3.jpg', 'im4.jpg', 'im2.jpg', 'im5.jpg', 'repeat', 'im1.jpg'],\n",
       " ['im5.jpg', 'repeat', 'im3.jpg', 'im1.jpg', 'im4.jpg', 'im2.jpg'],\n",
       " ['im2.jpg', 'im3.jpg', 'im1.jpg', 'im5.jpg', 'repeat', 'im4.jpg'],\n",
       " ['im4.jpg', 'im5.jpg', 'repeat', 'im3.jpg', 'im1.jpg', 'im2.jpg']]"
      ]
     },
     "execution_count": 7,
     "metadata": {},
     "output_type": "execute_result"
    }
   ],
   "source": [
    "conditions = []\n",
    "\n",
    "numReps = 5\n",
    "\n",
    "for i in range(numReps):\n",
    "    shuffle(image_names)\n",
    "    conditions.append([x for x in image_names])\n",
    "\n",
    "conditions"
   ]
  },
  {
   "cell_type": "code",
   "execution_count": 8,
   "metadata": {},
   "outputs": [
    {
     "data": {
      "text/plain": [
       "['im4.jpg',\n",
       " 'im1.jpg',\n",
       " 'im2.jpg',\n",
       " 'repeat',\n",
       " 'im5.jpg',\n",
       " 'im3.jpg',\n",
       " 'im3.jpg',\n",
       " 'im4.jpg',\n",
       " 'im2.jpg',\n",
       " 'im5.jpg',\n",
       " 'repeat',\n",
       " 'im1.jpg',\n",
       " 'im5.jpg',\n",
       " 'repeat',\n",
       " 'im3.jpg',\n",
       " 'im1.jpg',\n",
       " 'im4.jpg',\n",
       " 'im2.jpg',\n",
       " 'im2.jpg',\n",
       " 'im3.jpg',\n",
       " 'im1.jpg',\n",
       " 'im5.jpg',\n",
       " 'repeat',\n",
       " 'im4.jpg',\n",
       " 'im4.jpg',\n",
       " 'im5.jpg',\n",
       " 'repeat',\n",
       " 'im3.jpg',\n",
       " 'im1.jpg',\n",
       " 'im2.jpg']"
      ]
     },
     "execution_count": 8,
     "metadata": {},
     "output_type": "execute_result"
    }
   ],
   "source": [
    "#flattening the list\n",
    "alltrials = [item for sublist in conditions for item in sublist]\n",
    "#for sublist in conditions:\n",
    "    #for item in sublist:\n",
    "        #alltrials.append(item)\n",
    "alltrials"
   ]
  },
  {
   "cell_type": "markdown",
   "metadata": {},
   "source": [
    "Our basic structure is ready, however, we want to tweak the list a little bit before saving it into a file. There are a couple of things we should check, any idea what those could be?"
   ]
  },
  {
   "cell_type": "code",
   "execution_count": 11,
   "metadata": {
    "collapsed": true
   },
   "outputs": [],
   "source": [
    "def repIndex(trials):\n",
    "    repIdx = [x for x,val in enumerate(trials) if val == 'repeat']\n",
    "    return repIdx\n",
    "\n",
    "#this function takes the index and value \n",
    "#(that's why we like enumerate because it automatically gives you the index and value)\n",
    "#"
   ]
  },
  {
   "cell_type": "code",
   "execution_count": 10,
   "metadata": {},
   "outputs": [
    {
     "name": "stdout",
     "output_type": "stream",
     "text": [
      "0\n",
      "im4.jpg\n",
      "1\n",
      "im1.jpg\n",
      "2\n",
      "im2.jpg\n",
      "3\n",
      "repeat\n",
      "4\n",
      "im5.jpg\n",
      "5\n",
      "im3.jpg\n",
      "6\n",
      "im3.jpg\n",
      "7\n",
      "im4.jpg\n",
      "8\n",
      "im2.jpg\n",
      "9\n",
      "im5.jpg\n",
      "10\n",
      "repeat\n",
      "11\n",
      "im1.jpg\n",
      "12\n",
      "im5.jpg\n",
      "13\n",
      "repeat\n",
      "14\n",
      "im3.jpg\n",
      "15\n",
      "im1.jpg\n",
      "16\n",
      "im4.jpg\n",
      "17\n",
      "im2.jpg\n",
      "18\n",
      "im2.jpg\n",
      "19\n",
      "im3.jpg\n",
      "20\n",
      "im1.jpg\n",
      "21\n",
      "im5.jpg\n",
      "22\n",
      "repeat\n",
      "23\n",
      "im4.jpg\n",
      "24\n",
      "im4.jpg\n",
      "25\n",
      "im5.jpg\n",
      "26\n",
      "repeat\n",
      "27\n",
      "im3.jpg\n",
      "28\n",
      "im1.jpg\n",
      "29\n",
      "im2.jpg\n"
     ]
    }
   ],
   "source": [
    "for index, value in enumerate(alltrials):\n",
    "    print(index)\n",
    "    print(value)"
   ]
  },
  {
   "cell_type": "code",
   "execution_count": 13,
   "metadata": {},
   "outputs": [
    {
     "data": {
      "text/plain": [
       "[3, 10, 13, 22, 26]"
      ]
     },
     "execution_count": 13,
     "metadata": {},
     "output_type": "execute_result"
    }
   ],
   "source": [
    "wherearethey = repIndex(alltrials)\n",
    "wherearethey"
   ]
  },
  {
   "cell_type": "code",
   "execution_count": 106,
   "metadata": {
    "collapsed": true
   },
   "outputs": [],
   "source": [
    "def corrAnsFlag(trials):\n",
    "    \n",
    "    repIdx = repIndex(trials)\n",
    "    corrAns = ['left'] * len(trials)\n",
    "    \n",
    "    for val in repIdx:\n",
    "        corrAns[val] = 'right'\n",
    "        \n",
    "    return corrAns"
   ]
  },
  {
   "cell_type": "code",
   "execution_count": 107,
   "metadata": {},
   "outputs": [
    {
     "name": "stdout",
     "output_type": "stream",
     "text": [
      "[4, 6, 12, 19, 25]\n"
     ]
    }
   ],
   "source": [
    "corrAns = corrAnsFlag(alltrials)"
   ]
  },
  {
   "cell_type": "code",
   "execution_count": 115,
   "metadata": {},
   "outputs": [],
   "source": [
    "def repeatFlag(trials):\n",
    "    \n",
    "    repIdx = repIndex(trials)\n",
    "    \n",
    "    repeat = [0] * len(trials)\n",
    "    \n",
    "    for val in repIdx:\n",
    "        repeat[val] = 1\n",
    "        \n",
    "    return repeat"
   ]
  },
  {
   "cell_type": "code",
   "execution_count": 116,
   "metadata": {
    "collapsed": true
   },
   "outputs": [],
   "source": [
    "repeatId = repeatFlag(alltrials)"
   ]
  },
  {
   "cell_type": "code",
   "execution_count": 118,
   "metadata": {},
   "outputs": [],
   "source": [
    "def repeatRep(trials):\n",
    "    \n",
    "    repIdx = repIndex(trials)\n",
    "   \n",
    "    # replace \"repeat\" with the image before\n",
    "    \n",
    "    for rep in repIdx:\n",
    "        trials[rep] = trials[rep-1]\n",
    "        \n",
    "    return trials"
   ]
  },
  {
   "cell_type": "code",
   "execution_count": 119,
   "metadata": {
    "collapsed": true
   },
   "outputs": [],
   "source": [
    "finaltrials = repeatRep(alltrials)"
   ]
  },
  {
   "cell_type": "code",
   "execution_count": 124,
   "metadata": {
    "collapsed": true
   },
   "outputs": [],
   "source": [
    "df = pd.DataFrame({'trialval': finaltrials, 'corrAns': corrAns, 'repeat': repeatId}) "
   ]
  },
  {
   "cell_type": "code",
   "execution_count": 125,
   "metadata": {
    "collapsed": true
   },
   "outputs": [],
   "source": [
    "save_fn = 'image_conditions.csv'"
   ]
  },
  {
   "cell_type": "code",
   "execution_count": 126,
   "metadata": {
    "collapsed": true
   },
   "outputs": [],
   "source": [
    "df.to_csv(save_fn,index=False)"
   ]
  },
  {
   "cell_type": "code",
   "execution_count": null,
   "metadata": {
    "collapsed": true
   },
   "outputs": [],
   "source": []
  },
  {
   "cell_type": "code",
   "execution_count": null,
   "metadata": {
    "collapsed": true
   },
   "outputs": [],
   "source": []
  },
  {
   "cell_type": "code",
   "execution_count": null,
   "metadata": {
    "collapsed": true
   },
   "outputs": [],
   "source": []
  },
  {
   "cell_type": "code",
   "execution_count": null,
   "metadata": {
    "collapsed": true
   },
   "outputs": [],
   "source": []
  },
  {
   "cell_type": "code",
   "execution_count": null,
   "metadata": {
    "collapsed": true
   },
   "outputs": [],
   "source": []
  },
  {
   "cell_type": "code",
   "execution_count": null,
   "metadata": {
    "collapsed": true
   },
   "outputs": [],
   "source": []
  },
  {
   "cell_type": "code",
   "execution_count": null,
   "metadata": {},
   "outputs": [],
   "source": [
    "def checkRep(trials):\n",
    "    \n",
    "    repIdx = repIndex(trials)\n",
    "    \n",
    "    for item in range(1, len(repIdx)-1): \n",
    "        value = repIdx[item]\n",
    "        nextvalue = repIdx[item+1]\n",
    "    \n",
    "        if value+1 == nextvalue:\n",
    "            temp = trials[value-1]\n",
    "            trials[value-1] = trials[value]\n",
    "            trials[value] = temp\n",
    "\n",
    "    return trials"
   ]
  }
 ],
 "metadata": {
  "kernelspec": {
   "display_name": "Python 3",
   "language": "python",
   "name": "python3"
  },
  "language_info": {
   "codemirror_mode": {
    "name": "ipython",
    "version": 3
   },
   "file_extension": ".py",
   "mimetype": "text/x-python",
   "name": "python",
   "nbconvert_exporter": "python",
   "pygments_lexer": "ipython3",
   "version": "3.6.2"
  }
 },
 "nbformat": 4,
 "nbformat_minor": 2
}
